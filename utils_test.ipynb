{
 "cells": [
  {
   "cell_type": "markdown",
   "metadata": {},
   "source": [
    "# Base import"
   ]
  },
  {
   "cell_type": "code",
   "execution_count": 1,
   "metadata": {},
   "outputs": [],
   "source": [
    "import json\n",
    "import numpy as np\n",
    "import pandas as pd\n",
    "import matplotlib.pyplot as plt\n",
    "import data_utils\n",
    "import os\n",
    "import cv2"
   ]
  },
  {
   "cell_type": "code",
   "execution_count": 4,
   "metadata": {},
   "outputs": [
    {
     "data": {
      "text/plain": [
       "14137"
      ]
     },
     "execution_count": 4,
     "metadata": {},
     "output_type": "execute_result"
    }
   ],
   "source": [
    "f = open('./dataset/women_train_label.json','r')\n",
    "info = json.load(f)\n",
    "len(info)"
   ]
  },
  {
   "cell_type": "code",
   "execution_count": 5,
   "metadata": {},
   "outputs": [
    {
     "name": "stdout",
     "output_type": "stream",
     "text": [
      "39000-39842-5.png\n",
      "39000-39757-1.png\n",
      "40000-40538-1.png\n",
      "40000-40897-1.png\n",
      "40000-40545-1.png\n",
      "40000-40035-1.png\n",
      "30000-30803-1.png\n",
      "40000-40382-1.png\n",
      "39000-39943-1.png\n",
      "40000-40490-1.png\n",
      "40000-40654-1.png\n",
      "38000-38163-3.jpg\n"
     ]
    }
   ],
   "source": [
    "names = os.listdir('./dataset/image_women/')\n",
    "json_names = list(info.keys())\n",
    "for name in json_names:\n",
    "    if name not in names:\n",
    "        print(name)"
   ]
  },
  {
   "cell_type": "markdown",
   "metadata": {},
   "source": [
    "## find image error"
   ]
  },
  {
   "cell_type": "code",
   "execution_count": 2,
   "metadata": {},
   "outputs": [
    {
     "name": "stdout",
     "output_type": "stream",
     "text": [
      "7173 29000-29802-2.jpg ()\n",
      "cant_open = 0\n",
      "shape_len_not_3 = 1\n",
      "shape_error = 0\n",
      "-----------\n",
      "cant_open = 0\n",
      "shape_len_not_3 = 0\n",
      "shape_error = 0\n",
      "-----------\n",
      "Could not load \"\" \n",
      "Reason: \"image file is truncated (4 bytes not processed)\"\n",
      "Please see documentation at: http://pillow.readthedocs.org/en/latest/installation.html#external-libraries\n",
      "cant_open = 0\n",
      "shape_len_not_3 = 0\n",
      "shape_error = 0\n",
      "-----------\n",
      "num_type_error: 0\n",
      "gif: 0\n",
      "num_jpg: 0\n",
      "num_jpeg: 15695\n",
      "num_png: 0\n"
     ]
    }
   ],
   "source": [
    "data_utils.find_error_pil('./dataset/image_women/')\n",
    "print('-----------')\n",
    "data_utils.find_error_cv('./dataset/image_women/')\n",
    "print('-----------')\n",
    "data_utils.find_error_skimage('./dataset/image_women/')\n",
    "print('-----------')\n",
    "data_utils.find_type_error('./dataset/image_women/')"
   ]
  },
  {
   "cell_type": "code",
   "execution_count": null,
   "metadata": {},
   "outputs": [],
   "source": []
  }
 ],
 "metadata": {
  "kernelspec": {
   "display_name": "Python 3",
   "language": "python",
   "name": "python3"
  },
  "language_info": {
   "codemirror_mode": {
    "name": "ipython",
    "version": 3
   },
   "file_extension": ".py",
   "mimetype": "text/x-python",
   "name": "python",
   "nbconvert_exporter": "python",
   "pygments_lexer": "ipython3",
   "version": "3.5.5"
  }
 },
 "nbformat": 4,
 "nbformat_minor": 2
}
