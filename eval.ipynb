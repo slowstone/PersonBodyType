{
 "cells": [
  {
   "cell_type": "code",
   "execution_count": 1,
   "metadata": {},
   "outputs": [],
   "source": [
    "import os\n",
    "import json\n",
    "import matplotlib.pyplot as plt\n",
    "import cv2\n",
    "import numpy as np"
   ]
  },
  {
   "cell_type": "code",
   "execution_count": 2,
   "metadata": {},
   "outputs": [],
   "source": [
    "os.environ[\"CUDA_DEVICE_ORDER\"] = \"PCI_BUS_ID\" # so the IDs match nvidia-smi\n",
    "os.environ[\"CUDA_VISIBLE_DEVICES\"] = \"0\" # \"0, 1\" for multiple\n",
    "\n",
    "import tensorflow as tf"
   ]
  },
  {
   "cell_type": "code",
   "execution_count": 3,
   "metadata": {},
   "outputs": [],
   "source": [
    "INPUT_SHAPE = (512,256,3)\n",
    "CLASS_NUMS = 4"
   ]
  },
  {
   "cell_type": "code",
   "execution_count": 4,
   "metadata": {},
   "outputs": [],
   "source": [
    "def imread(path):\n",
    "    im = cv2.imread(path)\n",
    "    if im is None:\n",
    "        return None\n",
    "    \n",
    "    im = im/255\n",
    "    \n",
    "    im_pad = np.zeros(INPUT_SHAPE,dtype=np.float64)\n",
    "    h,w = im.shape[:2]\n",
    "    if h/w > INPUT_SHAPE[0]/INPUT_SHAPE[1]:\n",
    "        re_h = INPUT_SHAPE[0]\n",
    "        re_w = int(w * (re_h / h))\n",
    "    else:\n",
    "        re_w = INPUT_SHAPE[1]\n",
    "        re_h = int(h * (re_w / w))\n",
    "    re_im = cv2.resize(im,(re_w,re_h))\n",
    "    im_pad[:re_h,:re_w,:] = re_im.copy()\n",
    "    return im_pad"
   ]
  },
  {
   "cell_type": "code",
   "execution_count": 5,
   "metadata": {},
   "outputs": [],
   "source": [
    "def build_model(architecture='res50'):\n",
    "    if architecture == 'res50':\n",
    "        resnet_model = tf.keras.applications.resnet50.ResNet50(include_top=False,\n",
    "                                weights='imagenet',input_shape=INPUT_SHAPE,pooling='avg')\n",
    "        resnet_output = resnet_model.output\n",
    "\n",
    "        resnet_input = resnet_model.input\n",
    "#     elif architecture == 'res101':\n",
    "#         resnet_input = tf.keras.Input((None,None,3))\n",
    "#         _,_,_,_,C5 = resnet_graph(resnet_input,\"resnet101\")\n",
    "#         resnet_output = tf.keras.layers.GlobalAveragePooling2D()(C5)\n",
    "\n",
    "    output = tf.keras.layers.Dense(CLASS_NUMS,activation='softmax',name='fc_softmax')(resnet_output)\n",
    "\n",
    "    sm_model = tf.keras.models.Model(inputs = resnet_input,outputs = output, name = 'res50_softmax')\n",
    "    \n",
    "    return sm_model"
   ]
  },
  {
   "cell_type": "code",
   "execution_count": 11,
   "metadata": {},
   "outputs": [],
   "source": [
    "im_dir = '../dataset/bodytype/image_women/'\n",
    "dataversion = 'v2'\n",
    "train_json = '../dataset/bodytype/women_'+dataversion+'_train.json'\n",
    "val_json = '../dataset/bodytype/women_'+dataversion+'_val.json'"
   ]
  },
  {
   "cell_type": "code",
   "execution_count": 12,
   "metadata": {},
   "outputs": [],
   "source": [
    "if dataversion == 'v1':\n",
    "    class_ids_dict = {0:u\"Thin\",1:u\"Nomal\",2:u\"Fat\",3:u\"Fater\"}\n",
    "    model_path = './old_logs/20180801T1101_res50_momentum/ep_0094.h5'\n",
    "if dataversion == 'v2':\n",
    "    class_ids_dict = {0:u\"yHourglass\",1:u\"yPear\",2:u\"yApple\",3:u\"yBanana\"}\n",
    "    model_path = './old_logs/20180902T1520_res50_adam_v2/ep_0020.h5'"
   ]
  },
  {
   "cell_type": "code",
   "execution_count": 13,
   "metadata": {},
   "outputs": [],
   "source": [
    "f = open(train_json,'r')\n",
    "train_infos = json.load(f)\n",
    "f.close()\n",
    "f = open(val_json,'r')\n",
    "val_infos = json.load(f)\n",
    "f.close()"
   ]
  },
  {
   "cell_type": "code",
   "execution_count": 14,
   "metadata": {},
   "outputs": [],
   "source": [
    "architecture = 'res50'\n",
    "model = build_model(architecture=architecture)\n",
    "if model_path is not None:\n",
    "    model.load_weights(model_path,by_name=True)"
   ]
  },
  {
   "cell_type": "code",
   "execution_count": 31,
   "metadata": {
    "scrolled": true
   },
   "outputs": [
    {
     "data": {
      "image/png": "[encoded data removed]",
      "text/plain": [
       "<Figure size 432x288 with 1 Axes>"
      ]
     },
     "metadata": {
      "needs_background": "light"
     },
     "output_type": "display_data"
    },
    {
     "name": "stdout",
     "output_type": "stream",
     "text": [
      "0 yHourglass\n",
      "yHourglass 0.315711\n",
      "yPear 0.3089312\n",
      "yApple 0.17663372\n",
      "yBanana 0.19872408\n"
     ]
    }
   ],
   "source": [
    "im = imread('../dataset/bodytype/test_im/4.jpg')\n",
    "plt.imshow(im)\n",
    "plt.show()\n",
    "im = np.array([im])\n",
    "res = model.predict(im)\n",
    "ress = np.argmax(res)\n",
    "print(ress,class_ids_dict[ress])\n",
    "for i,con in enumerate(res[0]):\n",
    "    print(class_ids_dict[i],con)"
   ]
  },
  {
   "cell_type": "code",
   "execution_count": 12,
   "metadata": {},
   "outputs": [
    {
     "ename": "KeyboardInterrupt",
     "evalue": "",
     "output_type": "error",
     "traceback": [
      "\u001b[0;31m---------------------------------------------------------------------------\u001b[0m",
      "\u001b[0;31mKeyboardInterrupt\u001b[0m                         Traceback (most recent call last)",
      "\u001b[0;32m<ipython-input-12-f8917f9fe355>\u001b[0m in \u001b[0;36m<module>\u001b[0;34m\u001b[0m\n\u001b[1;32m      3\u001b[0m \u001b[0mcur_infos\u001b[0m \u001b[0;34m=\u001b[0m \u001b[0mval_infos\u001b[0m\u001b[0;34m\u001b[0m\u001b[0m\n\u001b[1;32m      4\u001b[0m \u001b[0;32mfor\u001b[0m \u001b[0mname\u001b[0m \u001b[0;32min\u001b[0m \u001b[0mcur_infos\u001b[0m\u001b[0;34m.\u001b[0m\u001b[0mkeys\u001b[0m\u001b[0;34m(\u001b[0m\u001b[0;34m)\u001b[0m\u001b[0;34m:\u001b[0m\u001b[0;34m\u001b[0m\u001b[0m\n\u001b[0;32m----> 5\u001b[0;31m     \u001b[0mim\u001b[0m \u001b[0;34m=\u001b[0m \u001b[0mimread\u001b[0m\u001b[0;34m(\u001b[0m\u001b[0mos\u001b[0m\u001b[0;34m.\u001b[0m\u001b[0mpath\u001b[0m\u001b[0;34m.\u001b[0m\u001b[0mjoin\u001b[0m\u001b[0;34m(\u001b[0m\u001b[0mim_dir\u001b[0m\u001b[0;34m,\u001b[0m\u001b[0mname\u001b[0m\u001b[0;34m)\u001b[0m\u001b[0;34m)\u001b[0m\u001b[0;34m\u001b[0m\u001b[0m\n\u001b[0m\u001b[1;32m      6\u001b[0m     \u001b[0;32mif\u001b[0m \u001b[0mim\u001b[0m \u001b[0;32mis\u001b[0m \u001b[0;32mNone\u001b[0m\u001b[0;34m:\u001b[0m\u001b[0;34m\u001b[0m\u001b[0m\n\u001b[1;32m      7\u001b[0m         \u001b[0;32mcontinue\u001b[0m\u001b[0;34m\u001b[0m\u001b[0m\n",
      "\u001b[0;32m<ipython-input-4-c59755fa6274>\u001b[0m in \u001b[0;36mimread\u001b[0;34m(path)\u001b[0m\n\u001b[1;32m      4\u001b[0m         \u001b[0;32mreturn\u001b[0m \u001b[0;32mNone\u001b[0m\u001b[0;34m\u001b[0m\u001b[0m\n\u001b[1;32m      5\u001b[0m \u001b[0;34m\u001b[0m\u001b[0m\n\u001b[0;32m----> 6\u001b[0;31m     \u001b[0mim\u001b[0m \u001b[0;34m=\u001b[0m \u001b[0mim\u001b[0m\u001b[0;34m/\u001b[0m\u001b[0;36m255\u001b[0m\u001b[0;34m\u001b[0m\u001b[0m\n\u001b[0m\u001b[1;32m      7\u001b[0m \u001b[0;34m\u001b[0m\u001b[0m\n\u001b[1;32m      8\u001b[0m     \u001b[0mim_pad\u001b[0m \u001b[0;34m=\u001b[0m \u001b[0mnp\u001b[0m\u001b[0;34m.\u001b[0m\u001b[0mzeros\u001b[0m\u001b[0;34m(\u001b[0m\u001b[0mINPUT_SHAPE\u001b[0m\u001b[0;34m,\u001b[0m\u001b[0mdtype\u001b[0m\u001b[0;34m=\u001b[0m\u001b[0mnp\u001b[0m\u001b[0;34m.\u001b[0m\u001b[0mfloat64\u001b[0m\u001b[0;34m)\u001b[0m\u001b[0;34m\u001b[0m\u001b[0m\n",
      "\u001b[0;31mKeyboardInterrupt\u001b[0m: "
     ]
    }
   ],
   "source": [
    "tr = 0\n",
    "fa = 0\n",
    "cur_infos = val_infos\n",
    "for name in cur_infos.keys():\n",
    "    im = imread(os.path.join(im_dir,name))\n",
    "    if im is None:\n",
    "        continue\n",
    "    im = np.array([im])\n",
    "    res = model.predict(im)\n",
    "    res = np.argmax(res)\n",
    "    if res == cur_infos[name]['label']:\n",
    "        tr += 1\n",
    "    else:\n",
    "        fa += 1\n",
    "print(tr,fa,tr/(fa+tr))"
   ]
  },
  {
   "cell_type": "code",
   "execution_count": null,
   "metadata": {},
   "outputs": [],
   "source": []
  }
 ],
 "metadata": {
  "kernelspec": {
   "display_name": "Python 3",
   "language": "python",
   "name": "python3"
  },
  "language_info": {
   "codemirror_mode": {
    "name": "ipython",
    "version": 3
   },
   "file_extension": ".py",
   "mimetype": "text/x-python",
   "name": "python",
   "nbconvert_exporter": "python",
   "pygments_lexer": "ipython3",
   "version": "3.6.6"
  }
 },
 "nbformat": 4,
 "nbformat_minor": 2
}
